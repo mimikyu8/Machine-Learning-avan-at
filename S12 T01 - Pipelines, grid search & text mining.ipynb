{
 "cells": [
  {
   "cell_type": "markdown",
   "metadata": {},
   "source": [
    "# Exercici 1"
   ]
  },
  {
   "cell_type": "markdown",
   "metadata": {},
   "source": [
    "Agafa el conjunt de dades que vulguis i realitza un pipeline i un gridsearch aplicant l'algorisme de Random Forest.\n",
    "\n",
    "Get the dataset you want and perform a pipeline and gridsearch applying the algorithm Random Forest."
   ]
  },
  {
   "cell_type": "code",
   "execution_count": 1,
   "metadata": {
    "ExecuteTime": {
     "end_time": "2022-05-27T16:15:26.288803Z",
     "start_time": "2022-05-27T16:14:03.702811Z"
    }
   },
   "outputs": [],
   "source": [
    "import pandas as pd \n",
    "import numpy as np\n",
    "import matplotlib.pyplot as plt\n",
    "import seaborn as sns\n",
    "from sklearn.preprocessing import MinMaxScaler\n",
    "from sklearn.model_selection import train_test_split, GridSearchCV\n",
    "from sklearn.ensemble import RandomForestClassifier\n",
    "from sklearn.pipeline import Pipeline"
   ]
  },
  {
   "cell_type": "code",
   "execution_count": 2,
   "metadata": {
    "ExecuteTime": {
     "end_time": "2022-05-27T16:15:26.351315Z",
     "start_time": "2022-05-27T16:15:26.299453Z"
    }
   },
   "outputs": [],
   "source": [
    "df = pd.read_csv(\"Crop_recommendation.csv\")\n",
    "#source: https://www.kaggle.com/datasets/78c7595cbf5a98a8cc488e5b9f6911f216680e5a221e6704ba7be4d7ef42c753"
   ]
  },
  {
   "cell_type": "markdown",
   "metadata": {},
   "source": [
    "This dataset gathers data about agricultural parameters, such as soil concentrations of nitrogen (N), phosphorous (P), and potassium (K), soil temperature in Celsius degrees, pH, where less than 7 is considered as acidic, more than 7 is considered basic, and at 7 it is considered as neutral, humidity, rainfall, and type of crop(label). The different types of crop are rice, maize, chickpeas, kidney beans, pigeon peas, moth beans, mung beans, blackgram, lentils, pomegranate, banana, mango, grapes, watermelon, muskmelon, apple, orange, papaya, coconut, cotton, jute, and coffee."
   ]
  },
  {
   "cell_type": "code",
   "execution_count": 3,
   "metadata": {
    "scrolled": true
   },
   "outputs": [
    {
     "data": {
      "text/html": [
       "<div>\n",
       "<style scoped>\n",
       "    .dataframe tbody tr th:only-of-type {\n",
       "        vertical-align: middle;\n",
       "    }\n",
       "\n",
       "    .dataframe tbody tr th {\n",
       "        vertical-align: top;\n",
       "    }\n",
       "\n",
       "    .dataframe thead th {\n",
       "        text-align: right;\n",
       "    }\n",
       "</style>\n",
       "<table border=\"1\" class=\"dataframe\">\n",
       "  <thead>\n",
       "    <tr style=\"text-align: right;\">\n",
       "      <th></th>\n",
       "      <th>N</th>\n",
       "      <th>P</th>\n",
       "      <th>K</th>\n",
       "      <th>temperature</th>\n",
       "      <th>humidity</th>\n",
       "      <th>ph</th>\n",
       "      <th>rainfall</th>\n",
       "      <th>label</th>\n",
       "    </tr>\n",
       "  </thead>\n",
       "  <tbody>\n",
       "    <tr>\n",
       "      <th>0</th>\n",
       "      <td>90</td>\n",
       "      <td>42</td>\n",
       "      <td>43</td>\n",
       "      <td>20.879744</td>\n",
       "      <td>82.002744</td>\n",
       "      <td>6.502985</td>\n",
       "      <td>202.935536</td>\n",
       "      <td>rice</td>\n",
       "    </tr>\n",
       "    <tr>\n",
       "      <th>1</th>\n",
       "      <td>85</td>\n",
       "      <td>58</td>\n",
       "      <td>41</td>\n",
       "      <td>21.770462</td>\n",
       "      <td>80.319644</td>\n",
       "      <td>7.038096</td>\n",
       "      <td>226.655537</td>\n",
       "      <td>rice</td>\n",
       "    </tr>\n",
       "    <tr>\n",
       "      <th>2</th>\n",
       "      <td>60</td>\n",
       "      <td>55</td>\n",
       "      <td>44</td>\n",
       "      <td>23.004459</td>\n",
       "      <td>82.320763</td>\n",
       "      <td>7.840207</td>\n",
       "      <td>263.964248</td>\n",
       "      <td>rice</td>\n",
       "    </tr>\n",
       "    <tr>\n",
       "      <th>3</th>\n",
       "      <td>74</td>\n",
       "      <td>35</td>\n",
       "      <td>40</td>\n",
       "      <td>26.491096</td>\n",
       "      <td>80.158363</td>\n",
       "      <td>6.980401</td>\n",
       "      <td>242.864034</td>\n",
       "      <td>rice</td>\n",
       "    </tr>\n",
       "    <tr>\n",
       "      <th>4</th>\n",
       "      <td>78</td>\n",
       "      <td>42</td>\n",
       "      <td>42</td>\n",
       "      <td>20.130175</td>\n",
       "      <td>81.604873</td>\n",
       "      <td>7.628473</td>\n",
       "      <td>262.717340</td>\n",
       "      <td>rice</td>\n",
       "    </tr>\n",
       "  </tbody>\n",
       "</table>\n",
       "</div>"
      ],
      "text/plain": [
       "    N   P   K  temperature   humidity        ph    rainfall label\n",
       "0  90  42  43    20.879744  82.002744  6.502985  202.935536  rice\n",
       "1  85  58  41    21.770462  80.319644  7.038096  226.655537  rice\n",
       "2  60  55  44    23.004459  82.320763  7.840207  263.964248  rice\n",
       "3  74  35  40    26.491096  80.158363  6.980401  242.864034  rice\n",
       "4  78  42  42    20.130175  81.604873  7.628473  262.717340  rice"
      ]
     },
     "execution_count": 3,
     "metadata": {},
     "output_type": "execute_result"
    }
   ],
   "source": [
    "df.head()"
   ]
  },
  {
   "cell_type": "code",
   "execution_count": 4,
   "metadata": {},
   "outputs": [
    {
     "data": {
      "text/plain": [
       "N              0\n",
       "P              0\n",
       "K              0\n",
       "temperature    0\n",
       "humidity       0\n",
       "ph             0\n",
       "rainfall       0\n",
       "label          0\n",
       "dtype: int64"
      ]
     },
     "execution_count": 4,
     "metadata": {},
     "output_type": "execute_result"
    }
   ],
   "source": [
    "df.isna().sum()"
   ]
  },
  {
   "cell_type": "markdown",
   "metadata": {},
   "source": [
    "There are no NaN values that we have to take care of. We will perform a Random Forest classifier to predict the type of crop, that is, to predict label. "
   ]
  },
  {
   "cell_type": "code",
   "execution_count": 3,
   "metadata": {
    "ExecuteTime": {
     "end_time": "2022-05-27T17:30:54.720463Z",
     "start_time": "2022-05-27T17:30:54.705505Z"
    }
   },
   "outputs": [],
   "source": [
    "#splitting into test and train\n",
    "\n",
    "X = df.drop([\"label\"], axis = 1)\n",
    "y = df.label\n",
    "\n",
    "X_train, X_test, y_train, y_test = train_test_split(X, y, random_state = 42)"
   ]
  },
  {
   "cell_type": "code",
   "execution_count": 4,
   "metadata": {
    "ExecuteTime": {
     "end_time": "2022-05-27T17:30:56.569050Z",
     "start_time": "2022-05-27T17:30:56.557042Z"
    }
   },
   "outputs": [],
   "source": [
    "#creating the pipeline\n",
    "pipe = Pipeline([(\"scaler\", MinMaxScaler()), (\"rf\", RandomForestClassifier(random_state = 42))])"
   ]
  },
  {
   "cell_type": "code",
   "execution_count": 5,
   "metadata": {
    "ExecuteTime": {
     "end_time": "2022-05-27T18:45:00.788642Z",
     "start_time": "2022-05-27T17:30:59.427733Z"
    }
   },
   "outputs": [
    {
     "name": "stdout",
     "output_type": "stream",
     "text": [
      "Best Hyperparameters:  {'rf__criterion': 'gini', 'rf__max_depth': 10, 'rf__max_features': 'sqrt', 'rf__min_samples_leaf': 2, 'rf__min_samples_split': 5, 'rf__n_estimators': 10}\n"
     ]
    },
    {
     "name": "stderr",
     "output_type": "stream",
     "text": [
      "C:\\Users\\Nuria\\anaconda3\\lib\\site-packages\\sklearn\\model_selection\\_validation.py:372: FitFailedWarning: \n",
      "2700 fits failed out of a total of 8100.\n",
      "The score on these train-test partitions for these parameters will be set to nan.\n",
      "If these failures are not expected, you can try to debug them by setting error_score='raise'.\n",
      "\n",
      "Below are more details about the failures:\n",
      "--------------------------------------------------------------------------------\n",
      "2700 fits failed with the following error:\n",
      "Traceback (most recent call last):\n",
      "  File \"C:\\Users\\Nuria\\anaconda3\\lib\\site-packages\\sklearn\\model_selection\\_validation.py\", line 680, in _fit_and_score\n",
      "    estimator.fit(X_train, y_train, **fit_params)\n",
      "  File \"C:\\Users\\Nuria\\anaconda3\\lib\\site-packages\\sklearn\\pipeline.py\", line 394, in fit\n",
      "    self._final_estimator.fit(Xt, y, **fit_params_last_step)\n",
      "  File \"C:\\Users\\Nuria\\anaconda3\\lib\\site-packages\\sklearn\\ensemble\\_forest.py\", line 450, in fit\n",
      "    trees = Parallel(\n",
      "  File \"C:\\Users\\Nuria\\anaconda3\\lib\\site-packages\\joblib\\parallel.py\", line 1043, in __call__\n",
      "    if self.dispatch_one_batch(iterator):\n",
      "  File \"C:\\Users\\Nuria\\anaconda3\\lib\\site-packages\\joblib\\parallel.py\", line 861, in dispatch_one_batch\n",
      "    self._dispatch(tasks)\n",
      "  File \"C:\\Users\\Nuria\\anaconda3\\lib\\site-packages\\joblib\\parallel.py\", line 779, in _dispatch\n",
      "    job = self._backend.apply_async(batch, callback=cb)\n",
      "  File \"C:\\Users\\Nuria\\anaconda3\\lib\\site-packages\\joblib\\_parallel_backends.py\", line 208, in apply_async\n",
      "    result = ImmediateResult(func)\n",
      "  File \"C:\\Users\\Nuria\\anaconda3\\lib\\site-packages\\joblib\\_parallel_backends.py\", line 572, in __init__\n",
      "    self.results = batch()\n",
      "  File \"C:\\Users\\Nuria\\anaconda3\\lib\\site-packages\\joblib\\parallel.py\", line 262, in __call__\n",
      "    return [func(*args, **kwargs)\n",
      "  File \"C:\\Users\\Nuria\\anaconda3\\lib\\site-packages\\joblib\\parallel.py\", line 262, in <listcomp>\n",
      "    return [func(*args, **kwargs)\n",
      "  File \"C:\\Users\\Nuria\\anaconda3\\lib\\site-packages\\sklearn\\utils\\fixes.py\", line 216, in __call__\n",
      "    return self.function(*args, **kwargs)\n",
      "  File \"C:\\Users\\Nuria\\anaconda3\\lib\\site-packages\\sklearn\\ensemble\\_forest.py\", line 185, in _parallel_build_trees\n",
      "    tree.fit(X, y, sample_weight=curr_sample_weight, check_input=False)\n",
      "  File \"C:\\Users\\Nuria\\anaconda3\\lib\\site-packages\\sklearn\\tree\\_classes.py\", line 937, in fit\n",
      "    super().fit(\n",
      "  File \"C:\\Users\\Nuria\\anaconda3\\lib\\site-packages\\sklearn\\tree\\_classes.py\", line 352, in fit\n",
      "    criterion = CRITERIA_CLF[self.criterion](\n",
      "KeyError: 'log_loss'\n",
      "\n",
      "  warnings.warn(some_fits_failed_message, FitFailedWarning)\n",
      "C:\\Users\\Nuria\\anaconda3\\lib\\site-packages\\sklearn\\model_selection\\_search.py:969: UserWarning: One or more of the test scores are non-finite: [0.95393939 0.97636364 0.98242424 ...        nan        nan        nan]\n",
      "  warnings.warn(\n"
     ]
    }
   ],
   "source": [
    "#declaring parameters for gridsearch\n",
    "space = dict()\n",
    "space[\"rf__criterion\"] = [\"gini\", \"entropy\", \"log_loss\"]\n",
    "space[\"rf__max_depth\"] = [5 ,10, 20, 30, None]\n",
    "space[\"rf__max_features\"] = [\"sqrt\", \"log2\"]\n",
    "space[\"rf__min_samples_split\"] = [2, 5, 10]\n",
    "space[\"rf__n_estimators\"] = [10, 50, 100, 200, 400, 600]\n",
    "space[\"rf__min_samples_leaf\"] = [1, 2, 4]\n",
    "\n",
    "\n",
    "#gridsearch for best roc auc \n",
    "search = GridSearchCV(pipe, space, scoring = \"accuracy\", cv = 5)\n",
    "\n",
    "result = search.fit(X_train, y_train)\n",
    "\n",
    "print(\"Best Hyperparameters: \", result.best_params_)"
   ]
  },
  {
   "cell_type": "code",
   "execution_count": 6,
   "metadata": {
    "ExecuteTime": {
     "end_time": "2022-05-27T18:51:09.733066Z",
     "start_time": "2022-05-27T18:51:09.718107Z"
    }
   },
   "outputs": [
    {
     "name": "stdout",
     "output_type": "stream",
     "text": [
      "Accuracy score using the best hyperparameters:  0.9963636363636363\n"
     ]
    }
   ],
   "source": [
    "print(\"Accuracy score using the best hyperparameters: \", result.best_score_)"
   ]
  },
  {
   "cell_type": "markdown",
   "metadata": {},
   "source": [
    "# Exercici 2 "
   ]
  },
  {
   "cell_type": "markdown",
   "metadata": {},
   "source": [
    "Agafa un text en anglès que vulguis, i calcula'n la freqüència de les paraules\n",
    "\n",
    "Get a text you want in English and calculate the word frequencies."
   ]
  },
  {
   "cell_type": "code",
   "execution_count": 70,
   "metadata": {
    "ExecuteTime": {
     "end_time": "2022-05-29T15:51:13.714565Z",
     "start_time": "2022-05-29T15:51:13.706588Z"
    }
   },
   "outputs": [],
   "source": [
    "#source: https://www.bollywoodhungama.com/movie/morbius-english/critic-review/morbius-english-movie-review/with-a-routine-plot-and-an-unexciting-script-morbius-is-a-weak-fare/\n",
    "\n",
    "text = \"\"\"Morbius is the story of a genius doctor trying to cure himself. Michael Morbius (Jared Leto)\n",
    "is a celebrated doctor who has invented 'artificial blood', which has saved millions of lives \n",
    "worldwide. He is handicapped since birth and is trying to find a cure for it. His research leads him \n",
    "to conclude that mixing the DNA of bats will be the cure that he's looking for. He manages to trap \n",
    "several bats in Costa Rica and secretly brings them to his lab in New York. He begins an experiment \n",
    "on a rat and it produces encouraging results. Morbius then along with his colleague, Dr Martine \n",
    "Bancroft (Adria Arjona), goes to the international waters in a ship. There, Martine injects himself \n",
    "with bat serum. Morbius gets cured of his handicap but also injects himself with a form of vampirism \n",
    "instead. In a fit of uncontrolled rage, he ends up killing the ship's crew. Morbius destroys the CCTV\n",
    "footage and escapes. Meanwhile, Lucian aka Milo (Matt Smith) is a close childhood friend of Morbius \n",
    "and is also handicap. Morbius had assured him that he'll cure Milo as well. After the episode on the \n",
    "ship, Morbius decides to not use it on Milo. However, Milo is dying to be 'normal' and hence, secretly\n",
    "injects himself with the serum, leading to madness. What happens next forms the rest of the film.\n",
    "\n",
    "Matt Sazama and Burk Sharpless' story is okay. Matt Sazama and Burk Sharpless' screenplay is weak. \n",
    "The film is filled with ordinary and beaten to death moments that we have already seen in the previous\n",
    "Marvel and other sci-fi films. The dialogues are nothing special.\n",
    "\n",
    "Daniel Espinosa's direction fails to save the film. With such a routine storyline, it becomes crucial \n",
    "for the execution to be a class apart. Nothing of that sort happens here. Moreover, the way the \n",
    "character is connected to the Spider-Man universe looks forced. On the positive side, a few scenes \n",
    "are well executed, like Morbius being injected with the bat serum, the fight between Morbius and Milo\n",
    "in the subway station and the kiss between Morbius and Martine in the climax.\n",
    "\n",
    "Jared Leto is in a good form. Matt Smith is over the top. Adria Arjona leaves a huge mark. The same \n",
    "goes for Charlie Shotwell (Young Michael) and Joseph Esson (Young Milo). Jared Harris (Nicholas) is \n",
    "decent in a cameo. Tyrese Gibson (Simon Stroud) is known for his comic timing but in MORBIUS, his \n",
    "character is lacklustre. Al Madrigal (Alberto Rodriguez) is wasted. Michael Keaton (Adrian Toomes)’s\n",
    "cameo fails to generate excitement.\n",
    "\n",
    "Jon Ekstrand's music is cinematic. Oliver Wood's cinematography is quite nice and keeps the interest \n",
    "going. Stefania Cella's production design is very rich. Cindy Evans' costumes are appealing. VFX, as \n",
    "expected, is out of the world. Action is minimal and this also goes against the film as one expects a \n",
    "lot of fight scenes in such films. Pietro Scalia's editing is passable.\n",
    "\n",
    "On the whole, MORBIUS emerges as the weakest Marvel film due to the routine plot and unexciting script.\n",
    "At the box office, it will find it tough to survive due to the limited buzz and negative word of mouth.\n",
    "\"\"\""
   ]
  },
  {
   "cell_type": "code",
   "execution_count": 93,
   "metadata": {
    "ExecuteTime": {
     "end_time": "2022-05-29T17:49:58.810744Z",
     "start_time": "2022-05-29T17:49:58.751785Z"
    }
   },
   "outputs": [],
   "source": [
    "from nltk.tokenize import word_tokenize\n",
    "\n",
    "# break the text into words\n",
    "token_word = word_tokenize(text)\n",
    "\n",
    "# remove punctuation\n",
    "token_word = [word for word in token_word if word.isalnum()]"
   ]
  },
  {
   "cell_type": "code",
   "execution_count": 94,
   "metadata": {
    "ExecuteTime": {
     "end_time": "2022-05-29T17:49:59.612933Z",
     "start_time": "2022-05-29T17:49:59.592984Z"
    }
   },
   "outputs": [
    {
     "data": {
      "text/plain": [
       "FreqDist({'.': 42, 'the': 32, 'is': 23, ',': 20, 'and': 18, 'to': 17, 'a': 15, 'of': 12, 'Morbius': 11, 'in': 10, ...})"
      ]
     },
     "execution_count": 94,
     "metadata": {},
     "output_type": "execute_result"
    }
   ],
   "source": [
    "word_freq"
   ]
  },
  {
   "cell_type": "code",
   "execution_count": 95,
   "metadata": {
    "ExecuteTime": {
     "end_time": "2022-05-29T17:50:00.590007Z",
     "start_time": "2022-05-29T17:50:00.582029Z"
    }
   },
   "outputs": [],
   "source": [
    "from nltk.probability import FreqDist\n",
    "\n",
    "word_freq = FreqDist(token_word)"
   ]
  },
  {
   "cell_type": "code",
   "execution_count": 96,
   "metadata": {
    "ExecuteTime": {
     "end_time": "2022-05-29T17:50:03.851004Z",
     "start_time": "2022-05-29T17:50:03.442256Z"
    }
   },
   "outputs": [
    {
     "data": {
      "image/png": "[encoded data removed]",
      "text/plain": [
       "<Figure size 1080x720 with 1 Axes>"
      ]
     },
     "metadata": {
      "needs_background": "light"
     },
     "output_type": "display_data"
    }
   ],
   "source": [
    "#plotting the word frequency\n",
    "plt.figure(figsize = (15, 10))\n",
    "plt.title(\"Word Frequency\")\n",
    "plt.xlabel(\"Words\")\n",
    "plt.ylabel(\"Counts\")\n",
    "word_freq.plot(45, cumulative = False)\n",
    "plt.show()"
   ]
  },
  {
   "cell_type": "markdown",
   "metadata": {},
   "source": [
    "The most repeated words are what are called stopwords. They are filler words that do not add substance to the text, they are just pronouns, articles and prepositions, for example."
   ]
  },
  {
   "cell_type": "markdown",
   "metadata": {},
   "source": [
    "# Exercici 3"
   ]
  },
  {
   "cell_type": "markdown",
   "metadata": {},
   "source": [
    "Treu les stop words i realitza stemming al teu conjunt de dades.\n",
    "\n",
    "Remove the stop words and perform stemming to the dataset."
   ]
  },
  {
   "cell_type": "code",
   "execution_count": 75,
   "metadata": {
    "ExecuteTime": {
     "end_time": "2022-05-29T15:52:18.982918Z",
     "start_time": "2022-05-29T15:52:18.938876Z"
    }
   },
   "outputs": [],
   "source": [
    "from nltk.corpus import stopwords\n",
    "\n",
    "#import english stopwords\n",
    "stop_words = list(stopwords.words(\"english\"))"
   ]
  },
  {
   "cell_type": "code",
   "execution_count": 76,
   "metadata": {
    "ExecuteTime": {
     "end_time": "2022-05-29T15:52:19.968455Z",
     "start_time": "2022-05-29T15:52:19.955490Z"
    }
   },
   "outputs": [
    {
     "name": "stdout",
     "output_type": "stream",
     "text": [
      "['i', 'me', 'my', 'myself', 'we', 'our', 'ours', 'ourselves', 'you', \"you're\", \"you've\", \"you'll\", \"you'd\", 'your', 'yours', 'yourself', 'yourselves', 'he', 'him', 'his', 'himself', 'she', \"she's\", 'her', 'hers', 'herself', 'it', \"it's\", 'its', 'itself', 'they', 'them', 'their', 'theirs', 'themselves', 'what', 'which', 'who', 'whom', 'this', 'that', \"that'll\", 'these', 'those', 'am', 'is', 'are', 'was', 'were', 'be', 'been', 'being', 'have', 'has', 'had', 'having', 'do', 'does', 'did', 'doing', 'a', 'an', 'the', 'and', 'but', 'if', 'or', 'because', 'as', 'until', 'while', 'of', 'at', 'by', 'for', 'with', 'about', 'against', 'between', 'into', 'through', 'during', 'before', 'after', 'above', 'below', 'to', 'from', 'up', 'down', 'in', 'out', 'on', 'off', 'over', 'under', 'again', 'further', 'then', 'once', 'here', 'there', 'when', 'where', 'why', 'how', 'all', 'any', 'both', 'each', 'few', 'more', 'most', 'other', 'some', 'such', 'no', 'nor', 'not', 'only', 'own', 'same', 'so', 'than', 'too', 'very', 's', 't', 'can', 'will', 'just', 'don', \"don't\", 'should', \"should've\", 'now', 'd', 'll', 'm', 'o', 're', 've', 'y', 'ain', 'aren', \"aren't\", 'couldn', \"couldn't\", 'didn', \"didn't\", 'doesn', \"doesn't\", 'hadn', \"hadn't\", 'hasn', \"hasn't\", 'haven', \"haven't\", 'isn', \"isn't\", 'ma', 'mightn', \"mightn't\", 'mustn', \"mustn't\", 'needn', \"needn't\", 'shan', \"shan't\", 'shouldn', \"shouldn't\", 'wasn', \"wasn't\", 'weren', \"weren't\", 'won', \"won't\", 'wouldn', \"wouldn't\"]\n"
     ]
    }
   ],
   "source": [
    "print(stop_words)"
   ]
  },
  {
   "cell_type": "code",
   "execution_count": 98,
   "metadata": {
    "ExecuteTime": {
     "end_time": "2022-05-29T17:51:46.390191Z",
     "start_time": "2022-05-29T17:51:46.369246Z"
    }
   },
   "outputs": [],
   "source": [
    "#removing stopwords and punctuation\n",
    "clean = []\n",
    "for i in token_word:\n",
    "    if i not in stop_words:\n",
    "        clean.append(i)"
   ]
  },
  {
   "cell_type": "code",
   "execution_count": 99,
   "metadata": {
    "ExecuteTime": {
     "end_time": "2022-05-29T17:51:49.175848Z",
     "start_time": "2022-05-29T17:51:49.156898Z"
    },
    "scrolled": true
   },
   "outputs": [
    {
     "name": "stdout",
     "output_type": "stream",
     "text": [
      "['morbiu', 'stori', 'geniu', 'doctor', 'tri', 'cure', 'michael', 'morbiu', 'jare', 'leto', 'celebr', 'doctor', 'invent', 'blood', 'save', 'million', 'live', 'worldwid', 'he', 'handicap', 'sinc', 'birth', 'tri', 'find', 'cure', 'hi', 'research', 'lead', 'conclud', 'mix', 'dna', 'bat', 'cure', 'look', 'he', 'manag', 'trap', 'sever', 'bat', 'costa', 'rica', 'secretli', 'bring', 'lab', 'new', 'york', 'he', 'begin', 'experi', 'rat', 'produc', 'encourag', 'result', 'morbiu', 'along', 'colleagu', 'dr', 'martin', 'bancroft', 'adria', 'arjona', 'goe', 'intern', 'water', 'ship', 'there', 'martin', 'inject', 'bat', 'serum', 'morbiu', 'get', 'cure', 'handicap', 'also', 'inject', 'form', 'vampir', 'instead', 'in', 'fit', 'uncontrol', 'rage', 'end', 'kill', 'ship', 'crew', 'morbiu', 'destroy', 'cctv', 'footag', 'escap', 'meanwhil', 'lucian', 'aka', 'milo', 'matt', 'smith', 'close', 'childhood', 'friend', 'morbiu', 'also', 'handicap', 'morbiu', 'assur', 'cure', 'milo', 'well', 'after', 'episod', 'ship', 'morbiu', 'decid', 'use', 'milo', 'howev', 'milo', 'die', 'henc', 'secretli', 'inject', 'serum', 'lead', 'mad', 'what', 'happen', 'next', 'form', 'rest', 'film', 'matt', 'sazama', 'burk', 'sharpless', 'stori', 'okay', 'matt', 'sazama', 'burk', 'sharpless', 'screenplay', 'weak', 'the', 'film', 'fill', 'ordinari', 'beaten', 'death', 'moment', 'alreadi', 'seen', 'previou', 'marvel', 'film', 'the', 'dialogu', 'noth', 'special', 'daniel', 'espinosa', 'direct', 'fail', 'save', 'film', 'with', 'routin', 'storylin', 'becom', 'crucial', 'execut', 'class', 'apart', 'noth', 'sort', 'happen', 'moreov', 'way', 'charact', 'connect', 'univers', 'look', 'forc', 'on', 'posit', 'side', 'scene', 'well', 'execut', 'like', 'morbiu', 'inject', 'bat', 'serum', 'fight', 'morbiu', 'milo', 'subway', 'station', 'kiss', 'morbiu', 'martin', 'climax', 'jare', 'leto', 'good', 'form', 'matt', 'smith', 'top', 'adria', 'arjona', 'leav', 'huge', 'mark', 'the', 'goe', 'charli', 'shotwel', 'young', 'michael', 'joseph', 'esson', 'young', 'milo', 'jare', 'harri', 'nichola', 'decent', 'cameo', 'tyres', 'gibson', 'simon', 'stroud', 'known', 'comic', 'time', 'morbiu', 'charact', 'lacklustr', 'al', 'madrig', 'alberto', 'rodriguez', 'wast', 'michael', 'keaton', 'adrian', 'toom', 'cameo', 'fail', 'gener', 'excit', 'jon', 'ekstrand', 'music', 'cinemat', 'oliv', 'wood', 'cinematographi', 'quit', 'nice', 'keep', 'interest', 'go', 'stefania', 'cella', 'product', 'design', 'rich', 'cindi', 'evan', 'costum', 'appeal', 'vfx', 'expect', 'world', 'action', 'minim', 'also', 'goe', 'film', 'one', 'expect', 'lot', 'fight', 'scene', 'film', 'pietro', 'scalia', 'edit', 'passabl', 'on', 'whole', 'morbiu', 'emerg', 'weakest', 'marvel', 'film', 'due', 'routin', 'plot', 'unexcit', 'script', 'at', 'box', 'offic', 'find', 'tough', 'surviv', 'due', 'limit', 'buzz', 'neg', 'word', 'mouth']\n"
     ]
    }
   ],
   "source": [
    "from nltk.stem import PorterStemmer\n",
    "\n",
    "#stemming\n",
    "ps = PorterStemmer()\n",
    "stemmed = []\n",
    "for j in clean:\n",
    "    stemmed.append(ps.stem(j))\n",
    "print(stemmed)"
   ]
  },
  {
   "cell_type": "code",
   "execution_count": 100,
   "metadata": {
    "ExecuteTime": {
     "end_time": "2022-05-29T17:53:39.465815Z",
     "start_time": "2022-05-29T17:53:39.049865Z"
    }
   },
   "outputs": [
    {
     "data": {
      "image/png": "[encoded data removed]",
      "text/plain": [
       "<Figure size 1080x720 with 1 Axes>"
      ]
     },
     "metadata": {
      "needs_background": "light"
     },
     "output_type": "display_data"
    }
   ],
   "source": [
    "word_freq_stemmed = FreqDist(stemmed)\n",
    "\n",
    "\n",
    "#plotting the word frequency\n",
    "plt.figure(figsize = (15, 10))\n",
    "plt.title(\"Word Frequency\")\n",
    "plt.xlabel(\"Words\")\n",
    "plt.ylabel(\"Counts\")\n",
    "word_freq_stemmed.plot(45, cumulative = False)\n",
    "plt.show()"
   ]
  },
  {
   "cell_type": "markdown",
   "metadata": {},
   "source": [
    "This plot is much interesting because it shows the most repeated non-filler words. In this case, the most repeated word is both the name of the movie reviewed and the name of the main character. "
   ]
  },
  {
   "cell_type": "markdown",
   "metadata": {},
   "source": [
    "# Exercici 4"
   ]
  },
  {
   "cell_type": "markdown",
   "metadata": {},
   "source": [
    "Realitza sentiment analysis al teu conjunt de dades.\n",
    "\n",
    "Perform sentiment analysis on your dataset."
   ]
  },
  {
   "cell_type": "markdown",
   "metadata": {},
   "source": [
    "There are two main types of approaches for sentiment analysis, one which is based on supervised learning, and another based on unsupervised lexicon-based learning. The frist approach needs prelabeled data, but the second does not, which is an advantage.  Textblob is a library used for NLP that has special dictionaries (lexicon) that have detailed information, specially curated and prepared just for sentiment analysis. These lexicons have a list of positive and negative polar words with some score associated with them, and using various techniques like the position of words, surrounding words, context, parts of speech, phrases, and so on, scores are assigned to the text documents for which we want to compute the sentiment. After aggregating these scores, we get the final sentiment."
   ]
  },
  {
   "cell_type": "code",
   "execution_count": 108,
   "metadata": {
    "ExecuteTime": {
     "end_time": "2022-05-29T18:34:17.380996Z",
     "start_time": "2022-05-29T18:34:17.366996Z"
    }
   },
   "outputs": [
    {
     "name": "stdout",
     "output_type": "stream",
     "text": [
      "Sentiment(polarity=0.029743867243867256, subjectivity=0.47087132725430597)\n"
     ]
    }
   ],
   "source": [
    "from textblob import TextBlob\n",
    "sent = TextBlob(text)\n",
    "print(sent.sentiment)"
   ]
  },
  {
   "cell_type": "markdown",
   "metadata": {},
   "source": [
    "Polarity is a metric used to estimate the overall sentiment of a text, and ranges from -1 to 1, where -1 would be completely negative, 0 is neutral, and 1 is completely positive. In this case, it is very close to 0, so the overall sentiment is neutral.\n",
    "\n",
    "Subjectivity is a metric that ranges from 0 to 1, where 0 is very objective and 1 is very subjective. In this case, it falls right in the middle. It is a review but also tells parts of the plot, which are objective, so it is understandable."
   ]
  }
 ],
 "metadata": {
  "kernelspec": {
   "display_name": "Python 3 (ipykernel)",
   "language": "python",
   "name": "python3"
  },
  "language_info": {
   "codemirror_mode": {
    "name": "ipython",
    "version": 3
   },
   "file_extension": ".py",
   "mimetype": "text/x-python",
   "name": "python",
   "nbconvert_exporter": "python",
   "pygments_lexer": "ipython3",
   "version": "3.9.7"
  },
  "toc": {
   "base_numbering": 1,
   "nav_menu": {},
   "number_sections": true,
   "sideBar": true,
   "skip_h1_title": false,
   "title_cell": "Table of Contents",
   "title_sidebar": "Contents",
   "toc_cell": false,
   "toc_position": {},
   "toc_section_display": true,
   "toc_window_display": false
  }
 },
 "nbformat": 4,
 "nbformat_minor": 4
}
